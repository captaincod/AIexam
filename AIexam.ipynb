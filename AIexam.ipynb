{
  "nbformat": 4,
  "nbformat_minor": 0,
  "metadata": {
    "colab": {
      "name": "AIexam.ipynb",
      "provenance": [],
      "collapsed_sections": [],
      "toc_visible": true
    },
    "kernelspec": {
      "name": "python3",
      "display_name": "Python 3"
    },
    "language_info": {
      "name": "python"
    }
  },
  "cells": [
    {
      "cell_type": "markdown",
      "source": [
        "# Задание\n",
        "*Третьему варианту не повезло - слишком лёгкое задание выпало!*"
      ],
      "metadata": {
        "id": "T6hFjS0LqAce"
      }
    },
    {
      "cell_type": "markdown",
      "source": [
        "Имеется робот, который управляется инопланетянами последовательностями \n",
        "инопланетных звуков.  \n",
        "\n",
        "Он может двигаться влево(L),вправо(R),вперед(F),назад(B) и стоять(S).\n",
        "История звуков-команд и движений робота есть  \n",
        "Задача - сделать две программы для анализа этих последовательностей.  \n",
        "\n",
        "Программа 1. Создать и обучить программу, которая по полученной \n",
        "последовательности звуков будет предсказывать, куда будет двигаться робот.  \n",
        "Обучить, определить точность прогноза.  \n",
        "Параметры обучения сохранить во внешнем файле.  \n",
        "\n",
        "Программа 2. Написать программу, которая по полученной последовательности звуков будет предсказывать, куда будет двигаться робот.  \n",
        "Использует параметры обучения, сохраненные первой программой  "
      ],
      "metadata": {
        "id": "0ao_bUzPeM06"
      }
    },
    {
      "cell_type": "markdown",
      "source": [
        "Тренировочный файл - ```train.txt```\n"
      ],
      "metadata": {
        "id": "WIo80sONgEbu"
      }
    },
    {
      "cell_type": "markdown",
      "source": [
        "# Программа 1"
      ],
      "metadata": {
        "id": "IxrI9ZLqqFsG"
      }
    },
    {
      "cell_type": "markdown",
      "source": [
        "## Составление тренировочных данных"
      ],
      "metadata": {
        "id": "XepcyJGLRP9i"
      }
    },
    {
      "cell_type": "code",
      "source": [
        "dataset = open('train.txt')\n",
        "X_train = []\n",
        "y_train = []\n",
        "alphabet = \"abcdefghijklmnopqrstuvwxyz\"\n",
        "seq_length = 100\n",
        "commands = {'L': [], 'R': [], 'F': [], 'B': [], 'S': []}\n",
        "\n",
        "for line in dataset:\n",
        "  command = line.split()[0]\n",
        "  movement  = line.split()[1]\n",
        "  commands[movement].append(command)\n",
        "\n",
        "  digits_command = []\n",
        "  digit_movements = {'L': 1, 'R': 2, 'F': 3, 'B': 4, 'S': 5}\n",
        "  digit_movement = 5\n",
        "\n",
        "  # X_train.append([alphabet.index(char) for char in command])\n",
        "  X_train.append([alphabet.index(char) for char in command[:5]])\n",
        "  y_train.append(digit_movements[movement])\n",
        "\n",
        "  if len(command) < seq_length: seq_length = len(command)\n",
        "\n",
        "dataset.close()\n",
        "\n",
        "for movement in commands:\n",
        "  print(f\"Movement: {movement}, number of commands: {len(commands[movement])}\\n\")\n",
        "\n",
        "print(\"Минимальная длина слова:\", seq_length, \"\\n\")\n",
        "print(\"Первые 10 значений X_train:\", X_train[:10], \"\\n\")\n",
        "print(\"Первые 10 значений y_train:\",y_train[:10])"
      ],
      "metadata": {
        "colab": {
          "base_uri": "https://localhost:8080/"
        },
        "id": "qA8F3YKtl3vm",
        "outputId": "020f6d0c-a0d4-4326-fe0f-b61f342feff1"
      },
      "execution_count": null,
      "outputs": [
        {
          "output_type": "stream",
          "name": "stdout",
          "text": [
            "Movement: L, number of commands: 12327\n",
            "\n",
            "Movement: R, number of commands: 9222\n",
            "\n",
            "Movement: F, number of commands: 14597\n",
            "\n",
            "Movement: B, number of commands: 14355\n",
            "\n",
            "Movement: S, number of commands: 49499\n",
            "\n",
            "Минимальная длина слова: 5 \n",
            "\n",
            "Первые 10 значений X_train: [[1, 1, 10, 22, 17], [14, 3, 10, 5, 21], [13, 8, 17, 17, 25], [20, 24, 10, 1, 23], [3, 11, 18, 6, 11], [25, 15, 21, 23, 3], [7, 5, 0, 25, 0], [9, 5, 15, 14, 22], [16, 17, 24, 14, 15], [13, 14, 1, 6, 21]] \n",
            "\n",
            "Первые 10 значений y_train: [2, 3, 5, 2, 5, 5, 1, 5, 2, 4]\n"
          ]
        }
      ]
    },
    {
      "cell_type": "code",
      "source": [
        "import numpy\n",
        "from keras.utils import np_utils\n",
        "\n",
        "X = numpy.reshape(X_train, (len(X_train), 1, seq_length))\n",
        "X = X / float(len(alphabet))\n",
        "y = np_utils.to_categorical(y_train)"
      ],
      "metadata": {
        "id": "zlJoi4SEUZy8"
      },
      "execution_count": null,
      "outputs": []
    },
    {
      "cell_type": "code",
      "source": [
        "X"
      ],
      "metadata": {
        "colab": {
          "base_uri": "https://localhost:8080/"
        },
        "id": "q8aQKldZTeSU",
        "outputId": "8330fb35-dc81-49e7-984c-24ca94b1a054"
      },
      "execution_count": null,
      "outputs": [
        {
          "output_type": "execute_result",
          "data": {
            "text/plain": [
              "array([[[0.03846154, 0.03846154, 0.38461538, 0.84615385, 0.65384615]],\n",
              "\n",
              "       [[0.53846154, 0.11538462, 0.38461538, 0.19230769, 0.80769231]],\n",
              "\n",
              "       [[0.5       , 0.30769231, 0.65384615, 0.65384615, 0.96153846]],\n",
              "\n",
              "       ...,\n",
              "\n",
              "       [[0.30769231, 0.57692308, 0.5       , 0.46153846, 0.19230769]],\n",
              "\n",
              "       [[0.34615385, 0.61538462, 0.5       , 0.76923077, 0.46153846]],\n",
              "\n",
              "       [[0.38461538, 0.5       , 0.        , 0.88461538, 0.34615385]]])"
            ]
          },
          "metadata": {},
          "execution_count": 6
        }
      ]
    },
    {
      "cell_type": "code",
      "source": [
        "X.shape"
      ],
      "metadata": {
        "colab": {
          "base_uri": "https://localhost:8080/"
        },
        "id": "zUkM_FGbUf0r",
        "outputId": "a26b13c6-fa9e-4041-cf7c-d55c6137e2fd"
      },
      "execution_count": null,
      "outputs": [
        {
          "output_type": "execute_result",
          "data": {
            "text/plain": [
              "(100000, 1, 5)"
            ]
          },
          "metadata": {},
          "execution_count": 7
        }
      ]
    },
    {
      "cell_type": "code",
      "source": [
        "y"
      ],
      "metadata": {
        "colab": {
          "base_uri": "https://localhost:8080/"
        },
        "id": "QHzwmN5XThVj",
        "outputId": "b820e6aa-09ca-40ef-dd92-2852ac029c6c"
      },
      "execution_count": null,
      "outputs": [
        {
          "output_type": "execute_result",
          "data": {
            "text/plain": [
              "array([[0., 0., 1., 0., 0., 0.],\n",
              "       [0., 0., 0., 1., 0., 0.],\n",
              "       [0., 0., 0., 0., 0., 1.],\n",
              "       ...,\n",
              "       [0., 0., 0., 0., 0., 1.],\n",
              "       [0., 0., 0., 0., 0., 1.],\n",
              "       [0., 0., 0., 0., 0., 1.]], dtype=float32)"
            ]
          },
          "metadata": {},
          "execution_count": 8
        }
      ]
    },
    {
      "cell_type": "markdown",
      "source": [
        "## Построение  и обучение модели"
      ],
      "metadata": {
        "id": "HZ_IOUyUaEOr"
      }
    },
    {
      "cell_type": "code",
      "source": [
        "from keras.models import Sequential\n",
        "from keras.layers import Dense\n",
        "from keras.layers import LSTM\n",
        "\n",
        "model = Sequential()\n",
        "model.add(LSTM(100, input_shape=(X.shape[1], X.shape[2]), name='lstm'))\n",
        "model.add(Dense(y.shape[1], activation='relu', name='relu'))\n",
        "model.add(Dense(y.shape[1], activation='softmax', name='softmax'))\n",
        "model.compile(loss='categorical_crossentropy', optimizer='adam', metrics=['accuracy'])"
      ],
      "metadata": {
        "id": "pnz5_dq8Z9zq"
      },
      "execution_count": null,
      "outputs": []
    },
    {
      "cell_type": "code",
      "source": [
        "model.summary()"
      ],
      "metadata": {
        "colab": {
          "base_uri": "https://localhost:8080/"
        },
        "id": "ozIwSF_SaNjS",
        "outputId": "a88fb43f-19af-4fb2-af1d-520dbfbb05ea"
      },
      "execution_count": null,
      "outputs": [
        {
          "output_type": "stream",
          "name": "stdout",
          "text": [
            "Model: \"sequential_12\"\n",
            "_________________________________________________________________\n",
            " Layer (type)                Output Shape              Param #   \n",
            "=================================================================\n",
            " lstm (LSTM)                 (None, 100)               42400     \n",
            "                                                                 \n",
            " relu (Dense)                (None, 6)                 606       \n",
            "                                                                 \n",
            " softmax (Dense)             (None, 6)                 42        \n",
            "                                                                 \n",
            "=================================================================\n",
            "Total params: 43,048\n",
            "Trainable params: 43,048\n",
            "Non-trainable params: 0\n",
            "_________________________________________________________________\n"
          ]
        }
      ]
    },
    {
      "cell_type": "code",
      "source": [
        "model.fit(X, y, epochs=50, batch_size=1, verbose=2)\n",
        "scores = model.evaluate(X, y, verbose=0)"
      ],
      "metadata": {
        "colab": {
          "base_uri": "https://localhost:8080/"
        },
        "id": "Z6rG6jLcaanI",
        "outputId": "4f0b00c9-2d9a-4a73-9414-f515d2b4bb69"
      },
      "execution_count": null,
      "outputs": [
        {
          "output_type": "stream",
          "name": "stdout",
          "text": [
            "Epoch 1/50\n",
            "100000/100000 - 181s - loss: 1.3223 - accuracy: 0.4976 - 181s/epoch - 2ms/step\n",
            "Epoch 2/50\n",
            "100000/100000 - 176s - loss: 1.2382 - accuracy: 0.5301 - 176s/epoch - 2ms/step\n",
            "Epoch 3/50\n",
            "100000/100000 - 176s - loss: 1.1675 - accuracy: 0.5585 - 176s/epoch - 2ms/step\n",
            "Epoch 4/50\n",
            "100000/100000 - 176s - loss: 1.1210 - accuracy: 0.5760 - 176s/epoch - 2ms/step\n",
            "Epoch 5/50\n",
            "100000/100000 - 176s - loss: 1.0971 - accuracy: 0.5848 - 176s/epoch - 2ms/step\n",
            "Epoch 6/50\n",
            "100000/100000 - 176s - loss: 1.0733 - accuracy: 0.5924 - 176s/epoch - 2ms/step\n",
            "Epoch 7/50\n",
            "100000/100000 - 176s - loss: 1.0620 - accuracy: 0.5973 - 176s/epoch - 2ms/step\n",
            "Epoch 8/50\n",
            "100000/100000 - 174s - loss: 1.0531 - accuracy: 0.6020 - 174s/epoch - 2ms/step\n",
            "Epoch 9/50\n",
            "100000/100000 - 175s - loss: 1.0460 - accuracy: 0.6069 - 175s/epoch - 2ms/step\n",
            "Epoch 10/50\n",
            "100000/100000 - 175s - loss: 1.0404 - accuracy: 0.6114 - 175s/epoch - 2ms/step\n",
            "Epoch 11/50\n",
            "100000/100000 - 177s - loss: 1.0340 - accuracy: 0.6140 - 177s/epoch - 2ms/step\n",
            "Epoch 12/50\n",
            "100000/100000 - 176s - loss: 1.0285 - accuracy: 0.6193 - 176s/epoch - 2ms/step\n",
            "Epoch 13/50\n",
            "100000/100000 - 176s - loss: 1.0237 - accuracy: 0.6214 - 176s/epoch - 2ms/step\n",
            "Epoch 14/50\n",
            "100000/100000 - 175s - loss: 1.0199 - accuracy: 0.6245 - 175s/epoch - 2ms/step\n",
            "Epoch 15/50\n",
            "100000/100000 - 176s - loss: 1.0156 - accuracy: 0.6260 - 176s/epoch - 2ms/step\n",
            "Epoch 16/50\n",
            "100000/100000 - 175s - loss: 1.0121 - accuracy: 0.6288 - 175s/epoch - 2ms/step\n",
            "Epoch 17/50\n",
            "100000/100000 - 172s - loss: 1.0089 - accuracy: 0.6297 - 172s/epoch - 2ms/step\n",
            "Epoch 18/50\n",
            "100000/100000 - 173s - loss: 1.0063 - accuracy: 0.6328 - 173s/epoch - 2ms/step\n",
            "Epoch 19/50\n",
            "100000/100000 - 172s - loss: 1.0043 - accuracy: 0.6317 - 172s/epoch - 2ms/step\n",
            "Epoch 20/50\n",
            "100000/100000 - 172s - loss: 1.0017 - accuracy: 0.6332 - 172s/epoch - 2ms/step\n",
            "Epoch 21/50\n",
            "100000/100000 - 172s - loss: 0.9996 - accuracy: 0.6347 - 172s/epoch - 2ms/step\n",
            "Epoch 22/50\n",
            "100000/100000 - 172s - loss: 0.9980 - accuracy: 0.6359 - 172s/epoch - 2ms/step\n",
            "Epoch 23/50\n",
            "100000/100000 - 171s - loss: 0.9963 - accuracy: 0.6363 - 171s/epoch - 2ms/step\n",
            "Epoch 24/50\n",
            "100000/100000 - 171s - loss: 0.9950 - accuracy: 0.6364 - 171s/epoch - 2ms/step\n",
            "Epoch 25/50\n",
            "100000/100000 - 171s - loss: 0.9941 - accuracy: 0.6362 - 171s/epoch - 2ms/step\n",
            "Epoch 26/50\n",
            "100000/100000 - 171s - loss: 0.9926 - accuracy: 0.6377 - 171s/epoch - 2ms/step\n",
            "Epoch 27/50\n",
            "100000/100000 - 171s - loss: 0.9914 - accuracy: 0.6380 - 171s/epoch - 2ms/step\n",
            "Epoch 28/50\n",
            "100000/100000 - 171s - loss: 0.9896 - accuracy: 0.6394 - 171s/epoch - 2ms/step\n",
            "Epoch 29/50\n",
            "100000/100000 - 171s - loss: 0.9890 - accuracy: 0.6397 - 171s/epoch - 2ms/step\n",
            "Epoch 30/50\n",
            "100000/100000 - 171s - loss: 0.9881 - accuracy: 0.6399 - 171s/epoch - 2ms/step\n",
            "Epoch 31/50\n",
            "100000/100000 - 174s - loss: 0.9871 - accuracy: 0.6394 - 174s/epoch - 2ms/step\n",
            "Epoch 32/50\n",
            "100000/100000 - 173s - loss: 0.9862 - accuracy: 0.6404 - 173s/epoch - 2ms/step\n",
            "Epoch 33/50\n",
            "100000/100000 - 173s - loss: 0.9849 - accuracy: 0.6406 - 173s/epoch - 2ms/step\n",
            "Epoch 34/50\n",
            "100000/100000 - 172s - loss: 0.9845 - accuracy: 0.6410 - 172s/epoch - 2ms/step\n",
            "Epoch 35/50\n",
            "100000/100000 - 174s - loss: 0.9836 - accuracy: 0.6414 - 174s/epoch - 2ms/step\n",
            "Epoch 36/50\n",
            "100000/100000 - 173s - loss: 0.9833 - accuracy: 0.6428 - 173s/epoch - 2ms/step\n",
            "Epoch 37/50\n",
            "100000/100000 - 172s - loss: 0.9823 - accuracy: 0.6425 - 172s/epoch - 2ms/step\n",
            "Epoch 38/50\n",
            "100000/100000 - 172s - loss: 0.9816 - accuracy: 0.6424 - 172s/epoch - 2ms/step\n",
            "Epoch 39/50\n",
            "100000/100000 - 172s - loss: 0.9813 - accuracy: 0.6428 - 172s/epoch - 2ms/step\n",
            "Epoch 40/50\n",
            "100000/100000 - 172s - loss: 0.9808 - accuracy: 0.6437 - 172s/epoch - 2ms/step\n",
            "Epoch 41/50\n",
            "100000/100000 - 172s - loss: 0.9799 - accuracy: 0.6433 - 172s/epoch - 2ms/step\n",
            "Epoch 42/50\n",
            "100000/100000 - 171s - loss: 0.9799 - accuracy: 0.6442 - 171s/epoch - 2ms/step\n",
            "Epoch 43/50\n",
            "100000/100000 - 172s - loss: 0.9793 - accuracy: 0.6439 - 172s/epoch - 2ms/step\n",
            "Epoch 44/50\n",
            "100000/100000 - 172s - loss: 0.9786 - accuracy: 0.6444 - 172s/epoch - 2ms/step\n",
            "Epoch 45/50\n",
            "100000/100000 - 173s - loss: 0.9778 - accuracy: 0.6451 - 173s/epoch - 2ms/step\n",
            "Epoch 46/50\n",
            "100000/100000 - 172s - loss: 0.9777 - accuracy: 0.6459 - 172s/epoch - 2ms/step\n",
            "Epoch 47/50\n",
            "100000/100000 - 172s - loss: 0.9767 - accuracy: 0.6455 - 172s/epoch - 2ms/step\n",
            "Epoch 48/50\n",
            "100000/100000 - 171s - loss: 0.9776 - accuracy: 0.6452 - 171s/epoch - 2ms/step\n",
            "Epoch 49/50\n",
            "100000/100000 - 172s - loss: 0.9758 - accuracy: 0.6471 - 172s/epoch - 2ms/step\n",
            "Epoch 50/50\n",
            "100000/100000 - 172s - loss: 0.9759 - accuracy: 0.6456 - 172s/epoch - 2ms/step\n"
          ]
        }
      ]
    },
    {
      "cell_type": "code",
      "source": [
        "scores = model.evaluate(X, y, verbose=0)\n",
        "print(\"Точность: %.2f%%\" % (scores[1]*100))"
      ],
      "metadata": {
        "colab": {
          "base_uri": "https://localhost:8080/"
        },
        "id": "PK28G634qQMM",
        "outputId": "3cfb19dd-2844-479c-e08b-75bd76c41719"
      },
      "execution_count": null,
      "outputs": [
        {
          "output_type": "stream",
          "name": "stdout",
          "text": [
            "Точность: 64.68%\n"
          ]
        }
      ]
    },
    {
      "cell_type": "markdown",
      "source": [
        "## Пример теста"
      ],
      "metadata": {
        "id": "OBmwCQpPaggr"
      }
    },
    {
      "cell_type": "code",
      "source": [
        "word = \"hello\"\n",
        "Test = []\n",
        "for char in word:\n",
        "  Test.append(alphabet.index(char) / len(alphabet))\n",
        "Test"
      ],
      "metadata": {
        "colab": {
          "base_uri": "https://localhost:8080/"
        },
        "id": "Srv4PXWesUyp",
        "outputId": "11c70b67-18ed-4e66-f820-b7afa24276f2"
      },
      "execution_count": null,
      "outputs": [
        {
          "output_type": "execute_result",
          "data": {
            "text/plain": [
              "[0.2692307692307692,\n",
              " 0.15384615384615385,\n",
              " 0.4230769230769231,\n",
              " 0.4230769230769231,\n",
              " 0.5384615384615384]"
            ]
          },
          "metadata": {},
          "execution_count": 12
        }
      ]
    },
    {
      "cell_type": "code",
      "source": [
        "resp = model.predict([[Test[:seq_length]]])\n",
        "for i in digit_movements:\n",
        "  if digit_movements[i] == resp.argmax():\n",
        "    print(i)"
      ],
      "metadata": {
        "colab": {
          "base_uri": "https://localhost:8080/"
        },
        "id": "e6CGtmo-qV6e",
        "outputId": "9942e6c8-6cb1-4933-8094-15f7d8e95238"
      },
      "execution_count": null,
      "outputs": [
        {
          "output_type": "stream",
          "name": "stdout",
          "text": [
            "S\n"
          ]
        }
      ]
    },
    {
      "cell_type": "markdown",
      "source": [
        "## Отрисовка модели"
      ],
      "metadata": {
        "id": "XbovhtcoiYMy"
      }
    },
    {
      "cell_type": "code",
      "source": [
        "import tensorflow as tf\n",
        "\n",
        "dot_img_file = 'model.png'\n",
        "tf.keras.utils.plot_model(model,to_file=dot_img_file,show_shapes=True)"
      ],
      "metadata": {
        "colab": {
          "base_uri": "https://localhost:8080/",
          "height": 422
        },
        "id": "ieqjvNMYia4a",
        "outputId": "1b471853-0e32-44fb-ca8a-f4e8284e6e6a"
      },
      "execution_count": null,
      "outputs": [
        {
          "output_type": "execute_result",
          "data": {
            "image/png": "[encoded data removed]",
            "text/plain": [
              "<IPython.core.display.Image object>"
            ]
          },
          "metadata": {},
          "execution_count": 14
        }
      ]
    },
    {
      "cell_type": "markdown",
      "source": [
        "## Сохранение параметров обучения"
      ],
      "metadata": {
        "id": "kEV_aMiwalMb"
      }
    },
    {
      "cell_type": "code",
      "execution_count": null,
      "metadata": {
        "id": "uQEgaSmSJMmp"
      },
      "outputs": [],
      "source": [
        "json_save = model.to_json()\n",
        "f = open('trained_commands.json','w')\n",
        "f.write(json_save)\n",
        "f.close()\n",
        "model.save_weights('trained_commands.hdf')\n"
      ]
    },
    {
      "cell_type": "markdown",
      "source": [
        "## Создание тестовых данных\n",
        "*если у вас нет test.txt*"
      ],
      "metadata": {
        "id": "tUyq7TZkuoyq"
      }
    },
    {
      "cell_type": "code",
      "source": [
        "test_range = 1000\n",
        "X_test = []\n",
        "y_test = []\n",
        "\n",
        "for i in range(test_range):\n",
        "  X_test.append([numpy.random.randint(0,len(alphabet)-1) for x in range(5)])\n",
        "  y_test.append(numpy.random.randint(1,6))"
      ],
      "metadata": {
        "id": "VQE78nBQvAcR"
      },
      "execution_count": null,
      "outputs": []
    },
    {
      "cell_type": "code",
      "source": [
        "X_test[:5]"
      ],
      "metadata": {
        "colab": {
          "base_uri": "https://localhost:8080/"
        },
        "id": "hnvRFlwNw3Jx",
        "outputId": "dd1d0df7-07cf-4895-f431-c091c54d940c"
      },
      "execution_count": null,
      "outputs": [
        {
          "output_type": "execute_result",
          "data": {
            "text/plain": [
              "[[22, 12, 8, 18, 20],\n",
              " [15, 13, 10, 13, 12],\n",
              " [9, 13, 20, 10, 0],\n",
              " [21, 12, 12, 11, 2],\n",
              " [9, 9, 17, 13, 13]]"
            ]
          },
          "metadata": {},
          "execution_count": 18
        }
      ]
    },
    {
      "cell_type": "code",
      "source": [
        "y_test[:5]"
      ],
      "metadata": {
        "colab": {
          "base_uri": "https://localhost:8080/"
        },
        "id": "tbVyaI-vw8Yn",
        "outputId": "97977afd-d289-4608-8b70-d99bf65c84a3"
      },
      "execution_count": null,
      "outputs": [
        {
          "output_type": "execute_result",
          "data": {
            "text/plain": [
              "[1, 2, 1, 2, 2]"
            ]
          },
          "metadata": {},
          "execution_count": 19
        }
      ]
    },
    {
      "cell_type": "code",
      "source": [
        "testfile = open('test.txt', 'w')\n",
        "for i in range(test_range):\n",
        "  line = ''\n",
        "  for x in X_test[i]:\n",
        "    line += str(alphabet[x])\n",
        "  line += ' '\n",
        "  for y in digit_movements:\n",
        "    if digit_movements[y] == y_test[i]:\n",
        "      line += str(y)\n",
        "  testfile.write(line + \"\\n\")\n",
        "testfile.close()"
      ],
      "metadata": {
        "id": "N6twUziJxjNx"
      },
      "execution_count": null,
      "outputs": []
    },
    {
      "cell_type": "markdown",
      "source": [
        "# Программа 2"
      ],
      "metadata": {
        "id": "GIb5V_R08ksQ"
      }
    },
    {
      "cell_type": "markdown",
      "source": [
        "## Загрузка параметров обучения"
      ],
      "metadata": {
        "id": "J_1-O99-a00j"
      }
    },
    {
      "cell_type": "code",
      "execution_count": null,
      "metadata": {
        "colab": {
          "base_uri": "https://localhost:8080/"
        },
        "id": "2wf-17RtSrGx",
        "outputId": "cb1d296e-a04a-4e54-f431-911c16c27089"
      },
      "outputs": [
        {
          "output_type": "stream",
          "name": "stdout",
          "text": [
            "Модель загружена\n"
          ]
        }
      ],
      "source": [
        "from keras.models import model_from_json\n",
        "\n",
        "json_load = open('trained_commands.json', 'r')\n",
        "loaded_model_json = json_load.read()\n",
        "json_load.close()\n",
        "\n",
        "loaded_model = model_from_json(loaded_model_json)\n",
        "loaded_model.load_weights('trained_commands.hdf')\n",
        "loaded_model.compile(optimizer='adam',loss='categorical_crossentropy',metrics=['accuracy'])\n",
        "print(\"Модель загружена\")"
      ]
    },
    {
      "cell_type": "markdown",
      "source": [
        "## Чтение тестовых данных"
      ],
      "metadata": {
        "id": "ChR8-crpBCf_"
      }
    },
    {
      "cell_type": "code",
      "source": [
        "test = open('test.txt')\n",
        "X_test = []\n",
        "y_test = []\n",
        "for line in test:\n",
        "  command = line.split()[0]\n",
        "  movement  = line.split()[1]\n",
        "\n",
        "  digits_command = []\n",
        "  digit_movements = {'L': 1, 'R': 2, 'F': 3, 'B': 4, 'S': 5}\n",
        "  digit_movement = 5\n",
        "  X_test.append([alphabet.index(char) for char in command[:5]])\n",
        "  y_test.append(digit_movements[movement])"
      ],
      "metadata": {
        "id": "v6cocVwW9HL_"
      },
      "execution_count": null,
      "outputs": []
    },
    {
      "cell_type": "markdown",
      "source": [
        "## Обучение загруженной модели"
      ],
      "metadata": {
        "id": "56w-ctIrBxoH"
      }
    },
    {
      "cell_type": "code",
      "source": [
        "Xtest = numpy.reshape(X_test, (len(X_test), 1, seq_length))\n",
        "Xtest = Xtest / float(len(alphabet))\n",
        "ytest = np_utils.to_categorical(y_test)"
      ],
      "metadata": {
        "id": "B25mxjRS-tuP"
      },
      "execution_count": null,
      "outputs": []
    },
    {
      "cell_type": "code",
      "source": [
        "y = np_utils.to_categorical(y_train)"
      ],
      "metadata": {
        "id": "B1GlQdTf_j0I"
      },
      "execution_count": null,
      "outputs": []
    },
    {
      "cell_type": "code",
      "source": [
        "loaded_model.fit(X, y, epochs=50, validation_data=(Xtest, ytest))"
      ],
      "metadata": {
        "colab": {
          "base_uri": "https://localhost:8080/"
        },
        "id": "d9uTThpT-N0P",
        "outputId": "93422501-bddd-42ae-be33-92e7d508abbe"
      },
      "execution_count": null,
      "outputs": [
        {
          "output_type": "stream",
          "name": "stdout",
          "text": [
            "Epoch 1/50\n",
            "3125/3125 [==============================] - 9s 3ms/step - loss: 0.9569 - accuracy: 0.6554 - val_loss: 5.6709 - val_accuracy: 0.2100\n",
            "Epoch 2/50\n",
            "3125/3125 [==============================] - 9s 3ms/step - loss: 0.9567 - accuracy: 0.6546 - val_loss: 5.6775 - val_accuracy: 0.2100\n",
            "Epoch 3/50\n",
            "3125/3125 [==============================] - 9s 3ms/step - loss: 0.9565 - accuracy: 0.6552 - val_loss: 5.6110 - val_accuracy: 0.2130\n",
            "Epoch 4/50\n",
            "3125/3125 [==============================] - 9s 3ms/step - loss: 0.9565 - accuracy: 0.6550 - val_loss: 5.6742 - val_accuracy: 0.2170\n",
            "Epoch 5/50\n",
            "3125/3125 [==============================] - 9s 3ms/step - loss: 0.9562 - accuracy: 0.6554 - val_loss: 5.6907 - val_accuracy: 0.2130\n",
            "Epoch 6/50\n",
            "3125/3125 [==============================] - 9s 3ms/step - loss: 0.9560 - accuracy: 0.6551 - val_loss: 5.7783 - val_accuracy: 0.2140\n",
            "Epoch 7/50\n",
            "3125/3125 [==============================] - 9s 3ms/step - loss: 0.9557 - accuracy: 0.6554 - val_loss: 5.7425 - val_accuracy: 0.2130\n",
            "Epoch 8/50\n",
            "3125/3125 [==============================] - 9s 3ms/step - loss: 0.9556 - accuracy: 0.6553 - val_loss: 5.7414 - val_accuracy: 0.2090\n",
            "Epoch 9/50\n",
            "3125/3125 [==============================] - 9s 3ms/step - loss: 0.9556 - accuracy: 0.6557 - val_loss: 5.8706 - val_accuracy: 0.2120\n",
            "Epoch 10/50\n",
            "3125/3125 [==============================] - 9s 3ms/step - loss: 0.9554 - accuracy: 0.6557 - val_loss: 5.9022 - val_accuracy: 0.2090\n",
            "Epoch 11/50\n",
            "3125/3125 [==============================] - 9s 3ms/step - loss: 0.9552 - accuracy: 0.6560 - val_loss: 5.8247 - val_accuracy: 0.2160\n",
            "Epoch 12/50\n",
            "3125/3125 [==============================] - 9s 3ms/step - loss: 0.9550 - accuracy: 0.6552 - val_loss: 5.8353 - val_accuracy: 0.2120\n",
            "Epoch 13/50\n",
            "3125/3125 [==============================] - 9s 3ms/step - loss: 0.9550 - accuracy: 0.6561 - val_loss: 5.8618 - val_accuracy: 0.2130\n",
            "Epoch 14/50\n",
            "3125/3125 [==============================] - 9s 3ms/step - loss: 0.9549 - accuracy: 0.6555 - val_loss: 5.8395 - val_accuracy: 0.2120\n",
            "Epoch 15/50\n",
            "3125/3125 [==============================] - 9s 3ms/step - loss: 0.9545 - accuracy: 0.6562 - val_loss: 5.8923 - val_accuracy: 0.2130\n",
            "Epoch 16/50\n",
            "3125/3125 [==============================] - 9s 3ms/step - loss: 0.9547 - accuracy: 0.6561 - val_loss: 6.0246 - val_accuracy: 0.2120\n",
            "Epoch 17/50\n",
            "3125/3125 [==============================] - 9s 3ms/step - loss: 0.9545 - accuracy: 0.6557 - val_loss: 5.8280 - val_accuracy: 0.2100\n",
            "Epoch 18/50\n",
            "3125/3125 [==============================] - 9s 3ms/step - loss: 0.9543 - accuracy: 0.6561 - val_loss: 5.9819 - val_accuracy: 0.2130\n",
            "Epoch 19/50\n",
            "3125/3125 [==============================] - 9s 3ms/step - loss: 0.9541 - accuracy: 0.6558 - val_loss: 5.9516 - val_accuracy: 0.2130\n",
            "Epoch 20/50\n",
            "3125/3125 [==============================] - 9s 3ms/step - loss: 0.9540 - accuracy: 0.6564 - val_loss: 5.9515 - val_accuracy: 0.2100\n",
            "Epoch 21/50\n",
            "3125/3125 [==============================] - 9s 3ms/step - loss: 0.9540 - accuracy: 0.6566 - val_loss: 5.9861 - val_accuracy: 0.2120\n",
            "Epoch 22/50\n",
            "3125/3125 [==============================] - 9s 3ms/step - loss: 0.9537 - accuracy: 0.6562 - val_loss: 5.9734 - val_accuracy: 0.2100\n",
            "Epoch 23/50\n",
            "3125/3125 [==============================] - 9s 3ms/step - loss: 0.9534 - accuracy: 0.6559 - val_loss: 6.0878 - val_accuracy: 0.2100\n",
            "Epoch 24/50\n",
            "3125/3125 [==============================] - 9s 3ms/step - loss: 0.9532 - accuracy: 0.6563 - val_loss: 6.0842 - val_accuracy: 0.2140\n",
            "Epoch 25/50\n",
            "3125/3125 [==============================] - 9s 3ms/step - loss: 0.9535 - accuracy: 0.6568 - val_loss: 6.1968 - val_accuracy: 0.2150\n",
            "Epoch 26/50\n",
            "3125/3125 [==============================] - 9s 3ms/step - loss: 0.9531 - accuracy: 0.6568 - val_loss: 6.2370 - val_accuracy: 0.2120\n",
            "Epoch 27/50\n",
            "3125/3125 [==============================] - 9s 3ms/step - loss: 0.9530 - accuracy: 0.6566 - val_loss: 6.1395 - val_accuracy: 0.2150\n",
            "Epoch 28/50\n",
            "3125/3125 [==============================] - 9s 3ms/step - loss: 0.9530 - accuracy: 0.6566 - val_loss: 6.1627 - val_accuracy: 0.2130\n",
            "Epoch 29/50\n",
            "3125/3125 [==============================] - 9s 3ms/step - loss: 0.9527 - accuracy: 0.6563 - val_loss: 6.2280 - val_accuracy: 0.2150\n",
            "Epoch 30/50\n",
            "3125/3125 [==============================] - 9s 3ms/step - loss: 0.9526 - accuracy: 0.6566 - val_loss: 6.2083 - val_accuracy: 0.2160\n",
            "Epoch 31/50\n",
            "3125/3125 [==============================] - 9s 3ms/step - loss: 0.9526 - accuracy: 0.6562 - val_loss: 6.1338 - val_accuracy: 0.2150\n",
            "Epoch 32/50\n",
            "3125/3125 [==============================] - 9s 3ms/step - loss: 0.9522 - accuracy: 0.6562 - val_loss: 6.2710 - val_accuracy: 0.2100\n",
            "Epoch 33/50\n",
            "3125/3125 [==============================] - 9s 3ms/step - loss: 0.9524 - accuracy: 0.6568 - val_loss: 6.3363 - val_accuracy: 0.2110\n",
            "Epoch 34/50\n",
            "3125/3125 [==============================] - 9s 3ms/step - loss: 0.9521 - accuracy: 0.6567 - val_loss: 6.1765 - val_accuracy: 0.2120\n",
            "Epoch 35/50\n",
            "3125/3125 [==============================] - 9s 3ms/step - loss: 0.9518 - accuracy: 0.6566 - val_loss: 6.2400 - val_accuracy: 0.2130\n",
            "Epoch 36/50\n",
            "3125/3125 [==============================] - 9s 3ms/step - loss: 0.9518 - accuracy: 0.6571 - val_loss: 6.1652 - val_accuracy: 0.2100\n",
            "Epoch 37/50\n",
            "3125/3125 [==============================] - 9s 3ms/step - loss: 0.9519 - accuracy: 0.6568 - val_loss: 6.3086 - val_accuracy: 0.2110\n",
            "Epoch 38/50\n",
            "3125/3125 [==============================] - 9s 3ms/step - loss: 0.9514 - accuracy: 0.6567 - val_loss: 6.2223 - val_accuracy: 0.2100\n",
            "Epoch 39/50\n",
            "3125/3125 [==============================] - 9s 3ms/step - loss: 0.9516 - accuracy: 0.6562 - val_loss: 6.2286 - val_accuracy: 0.2090\n",
            "Epoch 40/50\n",
            "3125/3125 [==============================] - 9s 3ms/step - loss: 0.9517 - accuracy: 0.6567 - val_loss: 6.3280 - val_accuracy: 0.2110\n",
            "Epoch 41/50\n",
            "3125/3125 [==============================] - 9s 3ms/step - loss: 0.9514 - accuracy: 0.6574 - val_loss: 6.2726 - val_accuracy: 0.2090\n",
            "Epoch 42/50\n",
            "3125/3125 [==============================] - 9s 3ms/step - loss: 0.9513 - accuracy: 0.6577 - val_loss: 6.3696 - val_accuracy: 0.2120\n",
            "Epoch 43/50\n",
            "3125/3125 [==============================] - 9s 3ms/step - loss: 0.9513 - accuracy: 0.6564 - val_loss: 6.4755 - val_accuracy: 0.2150\n",
            "Epoch 44/50\n",
            "3125/3125 [==============================] - 9s 3ms/step - loss: 0.9510 - accuracy: 0.6576 - val_loss: 6.2920 - val_accuracy: 0.2090\n",
            "Epoch 45/50\n",
            "3125/3125 [==============================] - 11s 3ms/step - loss: 0.9511 - accuracy: 0.6573 - val_loss: 6.2918 - val_accuracy: 0.2110\n",
            "Epoch 46/50\n",
            "3125/3125 [==============================] - 10s 3ms/step - loss: 0.9506 - accuracy: 0.6568 - val_loss: 6.3752 - val_accuracy: 0.2090\n",
            "Epoch 47/50\n",
            "3125/3125 [==============================] - 11s 3ms/step - loss: 0.9508 - accuracy: 0.6571 - val_loss: 6.3558 - val_accuracy: 0.2090\n",
            "Epoch 48/50\n",
            "3125/3125 [==============================] - 10s 3ms/step - loss: 0.9508 - accuracy: 0.6576 - val_loss: 6.3372 - val_accuracy: 0.2090\n",
            "Epoch 49/50\n",
            "3125/3125 [==============================] - 10s 3ms/step - loss: 0.9505 - accuracy: 0.6574 - val_loss: 6.2971 - val_accuracy: 0.2090\n",
            "Epoch 50/50\n",
            "3125/3125 [==============================] - 9s 3ms/step - loss: 0.9506 - accuracy: 0.6572 - val_loss: 6.4622 - val_accuracy: 0.2100\n"
          ]
        },
        {
          "output_type": "execute_result",
          "data": {
            "text/plain": [
              "<keras.callbacks.History at 0x7f4a0af17850>"
            ]
          },
          "metadata": {},
          "execution_count": 52
        }
      ]
    },
    {
      "cell_type": "code",
      "source": [
        "results = loaded_model.evaluate(Xtest,ytest)"
      ],
      "metadata": {
        "colab": {
          "base_uri": "https://localhost:8080/"
        },
        "id": "q4R8YKvSBZj4",
        "outputId": "2d5335bf-1443-44c1-a044-ea4fd27865f3"
      },
      "execution_count": null,
      "outputs": [
        {
          "output_type": "stream",
          "name": "stdout",
          "text": [
            "32/32 [==============================] - 0s 2ms/step - loss: 6.4622 - accuracy: 0.2100\n"
          ]
        }
      ]
    },
    {
      "cell_type": "code",
      "source": [
        "predicted = loaded_model.predict(Xtest)\n",
        "errors = 0\n",
        "for i in range(len(ytest)):\n",
        "  if (predicted[i].argmax() != ytest[i].argmax()):\n",
        "    errors += 1\n",
        "\n",
        "print(f\"Количество ошибок в предсказаниях: {errors}/{len(ytest)}\")"
      ],
      "metadata": {
        "colab": {
          "base_uri": "https://localhost:8080/"
        },
        "id": "OkmBtIwy91HH",
        "outputId": "bc778a7c-568f-47f8-8a3b-5d53a4d5d359"
      },
      "execution_count": null,
      "outputs": [
        {
          "output_type": "stream",
          "name": "stdout",
          "text": [
            "Количество ошибок в предсказаниях: 790/1000\n"
          ]
        }
      ]
    }
  ]
}